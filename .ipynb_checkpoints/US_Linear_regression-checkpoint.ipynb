{
 "cells": [
  {
   "cell_type": "code",
   "execution_count": 2,
   "metadata": {},
   "outputs": [],
   "source": [
    "# import dependencies\n",
    "%matplotlib inline\n",
    "import matplotlib.pyplot as plt\n",
    "import pandas as pd\n",
    "import numpy as np\n",
    "import sklearn"
   ]
  },
  {
   "cell_type": "code",
   "execution_count": 3,
   "metadata": {},
   "outputs": [
    {
     "data": {
      "text/html": [
       "<div>\n",
       "<style scoped>\n",
       "    .dataframe tbody tr th:only-of-type {\n",
       "        vertical-align: middle;\n",
       "    }\n",
       "\n",
       "    .dataframe tbody tr th {\n",
       "        vertical-align: top;\n",
       "    }\n",
       "\n",
       "    .dataframe thead th {\n",
       "        text-align: right;\n",
       "    }\n",
       "</style>\n",
       "<table border=\"1\" class=\"dataframe\">\n",
       "  <thead>\n",
       "    <tr style=\"text-align: right;\">\n",
       "      <th></th>\n",
       "      <th>Unnamed: 0</th>\n",
       "      <th>Year</th>\n",
       "      <th>Produced Renewable(Billion Btu)</th>\n",
       "      <th>Total Consumed(Billion Btu)</th>\n",
       "      <th>GDP(Million dollar)</th>\n",
       "      <th>Population(Thousand)</th>\n",
       "      <th>Energy Price(dollars in million btu)</th>\n",
       "    </tr>\n",
       "  </thead>\n",
       "  <tbody>\n",
       "    <tr>\n",
       "      <th>0</th>\n",
       "      <td>0</td>\n",
       "      <td>1970</td>\n",
       "      <td>4070021.0</td>\n",
       "      <td>67720114.0</td>\n",
       "      <td>0.0</td>\n",
       "      <td>205052.0</td>\n",
       "      <td>1.65</td>\n",
       "    </tr>\n",
       "    <tr>\n",
       "      <th>1</th>\n",
       "      <td>1</td>\n",
       "      <td>1971</td>\n",
       "      <td>4262212.0</td>\n",
       "      <td>69163993.0</td>\n",
       "      <td>0.0</td>\n",
       "      <td>207661.0</td>\n",
       "      <td>1.76</td>\n",
       "    </tr>\n",
       "    <tr>\n",
       "      <th>2</th>\n",
       "      <td>2</td>\n",
       "      <td>1972</td>\n",
       "      <td>4382009.0</td>\n",
       "      <td>72677208.0</td>\n",
       "      <td>0.0</td>\n",
       "      <td>209896.0</td>\n",
       "      <td>1.84</td>\n",
       "    </tr>\n",
       "    <tr>\n",
       "      <th>3</th>\n",
       "      <td>3</td>\n",
       "      <td>1973</td>\n",
       "      <td>4410938.0</td>\n",
       "      <td>75723857.0</td>\n",
       "      <td>0.0</td>\n",
       "      <td>211909.0</td>\n",
       "      <td>2.02</td>\n",
       "    </tr>\n",
       "    <tr>\n",
       "      <th>4</th>\n",
       "      <td>4</td>\n",
       "      <td>1974</td>\n",
       "      <td>4741851.0</td>\n",
       "      <td>73914525.0</td>\n",
       "      <td>0.0</td>\n",
       "      <td>213854.0</td>\n",
       "      <td>2.87</td>\n",
       "    </tr>\n",
       "  </tbody>\n",
       "</table>\n",
       "</div>"
      ],
      "text/plain": [
       "   Unnamed: 0  Year  Produced Renewable(Billion Btu)  \\\n",
       "0           0  1970                        4070021.0   \n",
       "1           1  1971                        4262212.0   \n",
       "2           2  1972                        4382009.0   \n",
       "3           3  1973                        4410938.0   \n",
       "4           4  1974                        4741851.0   \n",
       "\n",
       "   Total Consumed(Billion Btu)  GDP(Million dollar)  Population(Thousand)  \\\n",
       "0                   67720114.0                  0.0              205052.0   \n",
       "1                   69163993.0                  0.0              207661.0   \n",
       "2                   72677208.0                  0.0              209896.0   \n",
       "3                   75723857.0                  0.0              211909.0   \n",
       "4                   73914525.0                  0.0              213854.0   \n",
       "\n",
       "   Energy Price(dollars in million btu)  \n",
       "0                                  1.65  \n",
       "1                                  1.76  \n",
       "2                                  1.84  \n",
       "3                                  2.02  \n",
       "4                                  2.87  "
      ]
     },
     "execution_count": 3,
     "metadata": {},
     "output_type": "execute_result"
    }
   ],
   "source": [
    "# read the us data\n",
    "us_df = pd.read_csv(\"db/us_energy.csv\")\n",
    "us_df.head()"
   ]
  },
  {
   "cell_type": "code",
   "execution_count": 4,
   "metadata": {},
   "outputs": [
    {
     "data": {
      "text/html": [
       "<div>\n",
       "<style scoped>\n",
       "    .dataframe tbody tr th:only-of-type {\n",
       "        vertical-align: middle;\n",
       "    }\n",
       "\n",
       "    .dataframe tbody tr th {\n",
       "        vertical-align: top;\n",
       "    }\n",
       "\n",
       "    .dataframe thead th {\n",
       "        text-align: right;\n",
       "    }\n",
       "</style>\n",
       "<table border=\"1\" class=\"dataframe\">\n",
       "  <thead>\n",
       "    <tr style=\"text-align: right;\">\n",
       "      <th></th>\n",
       "      <th>Unnamed: 0</th>\n",
       "      <th>Year</th>\n",
       "      <th>Produced Renewable(Billion Btu)</th>\n",
       "      <th>Total Consumed(Billion Btu)</th>\n",
       "      <th>GDP(Million dollar)</th>\n",
       "      <th>Population(Thousand)</th>\n",
       "      <th>Energy Price(dollars in million btu)</th>\n",
       "      <th>Difference</th>\n",
       "    </tr>\n",
       "  </thead>\n",
       "  <tbody>\n",
       "    <tr>\n",
       "      <th>43</th>\n",
       "      <td>43</td>\n",
       "      <td>2013</td>\n",
       "      <td>9242048.0</td>\n",
       "      <td>97099401.0</td>\n",
       "      <td>16495400.0</td>\n",
       "      <td>316058.0</td>\n",
       "      <td>21.42</td>\n",
       "      <td>-87857353.0</td>\n",
       "    </tr>\n",
       "    <tr>\n",
       "      <th>44</th>\n",
       "      <td>44</td>\n",
       "      <td>2014</td>\n",
       "      <td>9600941.0</td>\n",
       "      <td>98267257.0</td>\n",
       "      <td>16899800.0</td>\n",
       "      <td>318386.0</td>\n",
       "      <td>21.33</td>\n",
       "      <td>-88666316.0</td>\n",
       "    </tr>\n",
       "    <tr>\n",
       "      <th>45</th>\n",
       "      <td>45</td>\n",
       "      <td>2015</td>\n",
       "      <td>9565096.0</td>\n",
       "      <td>97364113.0</td>\n",
       "      <td>17386700.0</td>\n",
       "      <td>320743.0</td>\n",
       "      <td>17.30</td>\n",
       "      <td>-87799017.0</td>\n",
       "    </tr>\n",
       "    <tr>\n",
       "      <th>46</th>\n",
       "      <td>46</td>\n",
       "      <td>2016</td>\n",
       "      <td>10225357.0</td>\n",
       "      <td>97230097.0</td>\n",
       "      <td>17659200.0</td>\n",
       "      <td>323071.0</td>\n",
       "      <td>15.94</td>\n",
       "      <td>-87004740.0</td>\n",
       "    </tr>\n",
       "    <tr>\n",
       "      <th>47</th>\n",
       "      <td>47</td>\n",
       "      <td>2017</td>\n",
       "      <td>11094237.0</td>\n",
       "      <td>97621515.0</td>\n",
       "      <td>18050700.0</td>\n",
       "      <td>325147.0</td>\n",
       "      <td>17.30</td>\n",
       "      <td>-86527278.0</td>\n",
       "    </tr>\n",
       "  </tbody>\n",
       "</table>\n",
       "</div>"
      ],
      "text/plain": [
       "    Unnamed: 0  Year  Produced Renewable(Billion Btu)  \\\n",
       "43          43  2013                        9242048.0   \n",
       "44          44  2014                        9600941.0   \n",
       "45          45  2015                        9565096.0   \n",
       "46          46  2016                       10225357.0   \n",
       "47          47  2017                       11094237.0   \n",
       "\n",
       "    Total Consumed(Billion Btu)  GDP(Million dollar)  Population(Thousand)  \\\n",
       "43                   97099401.0           16495400.0              316058.0   \n",
       "44                   98267257.0           16899800.0              318386.0   \n",
       "45                   97364113.0           17386700.0              320743.0   \n",
       "46                   97230097.0           17659200.0              323071.0   \n",
       "47                   97621515.0           18050700.0              325147.0   \n",
       "\n",
       "    Energy Price(dollars in million btu)  Difference  \n",
       "43                                 21.42 -87857353.0  \n",
       "44                                 21.33 -88666316.0  \n",
       "45                                 17.30 -87799017.0  \n",
       "46                                 15.94 -87004740.0  \n",
       "47                                 17.30 -86527278.0  "
      ]
     },
     "execution_count": 4,
     "metadata": {},
     "output_type": "execute_result"
    }
   ],
   "source": [
    "# add the difference column\n",
    "us_df[\"Difference\"] = us_df[\"Produced Renewable(Billion Btu)\"]-us_df[\"Total Consumed(Billion Btu)\"]\n",
    "us_df.tail()"
   ]
  },
  {
   "cell_type": "code",
   "execution_count": 5,
   "metadata": {},
   "outputs": [
    {
     "name": "stdout",
     "output_type": "stream",
     "text": [
      "(48, 4) (48, 1)\n"
     ]
    }
   ],
   "source": [
    "# Select X and y values\n",
    "X =us_df[[\"Year\", \"Produced Renewable(Billion Btu)\", \"Population(Thousand)\",\n",
    "           \"Energy Price(dollars in million btu)\"]]\n",
    "y =us_df[\"Difference\"].values.reshape(-1,1)\n",
    "print(X.shape, y.shape)"
   ]
  },
  {
   "cell_type": "code",
   "execution_count": 6,
   "metadata": {},
   "outputs": [
    {
     "name": "stdout",
     "output_type": "stream",
     "text": [
      "(36, 4)\n",
      "(36, 1)\n",
      "(12, 4)\n"
     ]
    }
   ],
   "source": [
    "# Use train_test_split to create training and testing data\n",
    "from sklearn.model_selection import train_test_split\n",
    "\n",
    "X_train, X_test, y_train, y_test = train_test_split(X, y, random_state=42)\n",
    "print(X_train.shape)\n",
    "print(y_train.shape)\n",
    "print(X_test.shape)"
   ]
  },
  {
   "cell_type": "code",
   "execution_count": 7,
   "metadata": {},
   "outputs": [
    {
     "data": {
      "text/plain": [
       "LinearRegression()"
      ]
     },
     "execution_count": 7,
     "metadata": {},
     "output_type": "execute_result"
    }
   ],
   "source": [
    "# create the linear regression model\n",
    "\n",
    "from sklearn.linear_model import LinearRegression\n",
    "\n",
    "model = LinearRegression()\n",
    "model.fit(X_train, y_train)"
   ]
  },
  {
   "cell_type": "code",
   "execution_count": 8,
   "metadata": {},
   "outputs": [
    {
     "name": "stdout",
     "output_type": "stream",
     "text": [
      "MSE: 10093875774930.164, R2: 0.8595146119557222\n"
     ]
    }
   ],
   "source": [
    "# make predictiions and display r2\n",
    "\n",
    "from sklearn.metrics import mean_squared_error\n",
    "\n",
    "predictions = model.predict(X_test)\n",
    "MSE = mean_squared_error(y_test, predictions)\n",
    "r2 = model.score(X_test, y_test)\n",
    "\n",
    "print(f\"MSE: {MSE}, R2: {r2}\")"
   ]
  },
  {
   "cell_type": "markdown",
   "metadata": {},
   "source": [
    "## Create simple linear regression model to make predictiions for the selected features"
   ]
  },
  {
   "cell_type": "code",
   "execution_count": 9,
   "metadata": {},
   "outputs": [
    {
     "data": {
      "text/plain": [
       "<matplotlib.collections.PathCollection at 0x14e7aac16a0>"
      ]
     },
     "execution_count": 9,
     "metadata": {},
     "output_type": "execute_result"
    },
    {
     "data": {
      "image/png": "[encoded data removed]",
      "text/plain": [
       "<Figure size 432x288 with 1 Axes>"
      ]
     },
     "metadata": {
      "needs_background": "light"
     },
     "output_type": "display_data"
    }
   ],
   "source": [
    "# make predictions for renewable production\n",
    "X1 = us_df[\"Year\"].values.reshape(-1,1)\n",
    "y1 = us_df[\"Produced Renewable(Billion Btu)\"].values.reshape(-1,1)\n",
    "plt.scatter(X1,y1)"
   ]
  },
  {
   "cell_type": "code",
   "execution_count": 10,
   "metadata": {},
   "outputs": [],
   "source": [
    "# Use train_test_split to create training and testing data\n",
    "from sklearn.model_selection import train_test_split\n",
    "\n",
    "X1_train, X1_test, y1_train, y1_test = train_test_split(X1, y1, random_state=42)"
   ]
  },
  {
   "cell_type": "code",
   "execution_count": 11,
   "metadata": {},
   "outputs": [
    {
     "data": {
      "text/plain": [
       "LinearRegression()"
      ]
     },
     "execution_count": 11,
     "metadata": {},
     "output_type": "execute_result"
    }
   ],
   "source": [
    "# create the linear regression model\n",
    "from sklearn.linear_model import LinearRegression\n",
    "model1 = LinearRegression()\n",
    "model1.fit(X1_train, y1_train)"
   ]
  },
  {
   "cell_type": "code",
   "execution_count": null,
   "metadata": {},
   "outputs": [],
   "source": []
  }
 ],
 "metadata": {
  "kernelspec": {
   "display_name": "PythonData",
   "language": "python",
   "name": "pythondata"
  },
  "language_info": {
   "codemirror_mode": {
    "name": "ipython",
    "version": 3
   },
   "file_extension": ".py",
   "mimetype": "text/x-python",
   "name": "python",
   "nbconvert_exporter": "python",
   "pygments_lexer": "ipython3",
   "version": "3.6.10"
  }
 },
 "nbformat": 4,
 "nbformat_minor": 4
}
