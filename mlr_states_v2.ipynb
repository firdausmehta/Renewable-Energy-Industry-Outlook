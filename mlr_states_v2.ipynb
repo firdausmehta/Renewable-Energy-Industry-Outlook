{
 "cells": [
  {
   "cell_type": "code",
   "execution_count": 2,
   "metadata": {},
   "outputs": [],
   "source": [
    "# import dependencies\n",
    "%matplotlib inline\n",
    "import matplotlib.pyplot as plt\n",
    "import pandas as pd\n",
    "import numpy as np\n",
    "import sklearn"
   ]
  },
  {
   "cell_type": "code",
   "execution_count": 3,
   "metadata": {},
   "outputs": [
    {
     "data": {
      "text/html": [
       "<div>\n",
       "<style scoped>\n",
       "    .dataframe tbody tr th:only-of-type {\n",
       "        vertical-align: middle;\n",
       "    }\n",
       "\n",
       "    .dataframe tbody tr th {\n",
       "        vertical-align: top;\n",
       "    }\n",
       "\n",
       "    .dataframe thead th {\n",
       "        text-align: right;\n",
       "    }\n",
       "</style>\n",
       "<table border=\"1\" class=\"dataframe\">\n",
       "  <thead>\n",
       "    <tr style=\"text-align: right;\">\n",
       "      <th></th>\n",
       "      <th>Unnamed: 0</th>\n",
       "      <th>State</th>\n",
       "      <th>Year</th>\n",
       "      <th>Produced Renewable(Billion Btu)</th>\n",
       "      <th>Total Consumed(Billion Btu)</th>\n",
       "      <th>GDP(Million dollars)</th>\n",
       "      <th>Population(Thousand)</th>\n",
       "      <th>Energy Price(dollars per million btu)</th>\n",
       "    </tr>\n",
       "  </thead>\n",
       "  <tbody>\n",
       "    <tr>\n",
       "      <th>0</th>\n",
       "      <td>0</td>\n",
       "      <td>Alaska</td>\n",
       "      <td>1970</td>\n",
       "      <td>8835.0</td>\n",
       "      <td>182039.0</td>\n",
       "      <td>0.0</td>\n",
       "      <td>304.0</td>\n",
       "      <td>1.39</td>\n",
       "    </tr>\n",
       "    <tr>\n",
       "      <th>1</th>\n",
       "      <td>1</td>\n",
       "      <td>Alabama</td>\n",
       "      <td>1970</td>\n",
       "      <td>132471.0</td>\n",
       "      <td>1393497.0</td>\n",
       "      <td>0.0</td>\n",
       "      <td>3451.0</td>\n",
       "      <td>1.37</td>\n",
       "    </tr>\n",
       "    <tr>\n",
       "      <th>2</th>\n",
       "      <td>2</td>\n",
       "      <td>Arkansas</td>\n",
       "      <td>1970</td>\n",
       "      <td>56933.0</td>\n",
       "      <td>708904.0</td>\n",
       "      <td>0.0</td>\n",
       "      <td>1932.0</td>\n",
       "      <td>1.51</td>\n",
       "    </tr>\n",
       "    <tr>\n",
       "      <th>3</th>\n",
       "      <td>3</td>\n",
       "      <td>Arizona</td>\n",
       "      <td>1970</td>\n",
       "      <td>68919.0</td>\n",
       "      <td>520401.0</td>\n",
       "      <td>0.0</td>\n",
       "      <td>1792.0</td>\n",
       "      <td>1.97</td>\n",
       "    </tr>\n",
       "    <tr>\n",
       "      <th>4</th>\n",
       "      <td>4</td>\n",
       "      <td>California</td>\n",
       "      <td>1970</td>\n",
       "      <td>521978.0</td>\n",
       "      <td>5499139.0</td>\n",
       "      <td>0.0</td>\n",
       "      <td>20007.0</td>\n",
       "      <td>1.74</td>\n",
       "    </tr>\n",
       "  </tbody>\n",
       "</table>\n",
       "</div>"
      ],
      "text/plain": [
       "   Unnamed: 0       State  Year  Produced Renewable(Billion Btu)  \\\n",
       "0           0      Alaska  1970                           8835.0   \n",
       "1           1     Alabama  1970                         132471.0   \n",
       "2           2    Arkansas  1970                          56933.0   \n",
       "3           3     Arizona  1970                          68919.0   \n",
       "4           4  California  1970                         521978.0   \n",
       "\n",
       "   Total Consumed(Billion Btu)  GDP(Million dollars)  Population(Thousand)  \\\n",
       "0                     182039.0                   0.0                 304.0   \n",
       "1                    1393497.0                   0.0                3451.0   \n",
       "2                     708904.0                   0.0                1932.0   \n",
       "3                     520401.0                   0.0                1792.0   \n",
       "4                    5499139.0                   0.0               20007.0   \n",
       "\n",
       "   Energy Price(dollars per million btu)  \n",
       "0                                   1.39  \n",
       "1                                   1.37  \n",
       "2                                   1.51  \n",
       "3                                   1.97  \n",
       "4                                   1.74  "
      ]
     },
     "execution_count": 3,
     "metadata": {},
     "output_type": "execute_result"
    }
   ],
   "source": [
    "# read in the states data\n",
    "states_df = pd.read_csv(\"db/states_energy.csv\")\n",
    "states_df.head()"
   ]
  },
  {
   "cell_type": "code",
   "execution_count": 4,
   "metadata": {},
   "outputs": [
    {
     "data": {
      "text/html": [
       "<div>\n",
       "<style scoped>\n",
       "    .dataframe tbody tr th:only-of-type {\n",
       "        vertical-align: middle;\n",
       "    }\n",
       "\n",
       "    .dataframe tbody tr th {\n",
       "        vertical-align: top;\n",
       "    }\n",
       "\n",
       "    .dataframe thead th {\n",
       "        text-align: right;\n",
       "    }\n",
       "</style>\n",
       "<table border=\"1\" class=\"dataframe\">\n",
       "  <thead>\n",
       "    <tr style=\"text-align: right;\">\n",
       "      <th></th>\n",
       "      <th>State</th>\n",
       "      <th>Year</th>\n",
       "      <th>Prod. Renewable (Bil. Btu)</th>\n",
       "      <th>Total Consumed (Bil. Btu)</th>\n",
       "      <th>GDP (Millions)</th>\n",
       "      <th>Pop. (1000s)</th>\n",
       "      <th>Energy Pr. ($/mil. btu)</th>\n",
       "    </tr>\n",
       "  </thead>\n",
       "  <tbody>\n",
       "    <tr>\n",
       "      <th>0</th>\n",
       "      <td>Alaska</td>\n",
       "      <td>1970</td>\n",
       "      <td>8835.0</td>\n",
       "      <td>182039.0</td>\n",
       "      <td>0.0</td>\n",
       "      <td>304.0</td>\n",
       "      <td>1.39</td>\n",
       "    </tr>\n",
       "    <tr>\n",
       "      <th>1</th>\n",
       "      <td>Alabama</td>\n",
       "      <td>1970</td>\n",
       "      <td>132471.0</td>\n",
       "      <td>1393497.0</td>\n",
       "      <td>0.0</td>\n",
       "      <td>3451.0</td>\n",
       "      <td>1.37</td>\n",
       "    </tr>\n",
       "    <tr>\n",
       "      <th>2</th>\n",
       "      <td>Arkansas</td>\n",
       "      <td>1970</td>\n",
       "      <td>56933.0</td>\n",
       "      <td>708904.0</td>\n",
       "      <td>0.0</td>\n",
       "      <td>1932.0</td>\n",
       "      <td>1.51</td>\n",
       "    </tr>\n",
       "    <tr>\n",
       "      <th>3</th>\n",
       "      <td>Arizona</td>\n",
       "      <td>1970</td>\n",
       "      <td>68919.0</td>\n",
       "      <td>520401.0</td>\n",
       "      <td>0.0</td>\n",
       "      <td>1792.0</td>\n",
       "      <td>1.97</td>\n",
       "    </tr>\n",
       "    <tr>\n",
       "      <th>4</th>\n",
       "      <td>California</td>\n",
       "      <td>1970</td>\n",
       "      <td>521978.0</td>\n",
       "      <td>5499139.0</td>\n",
       "      <td>0.0</td>\n",
       "      <td>20007.0</td>\n",
       "      <td>1.74</td>\n",
       "    </tr>\n",
       "  </tbody>\n",
       "</table>\n",
       "</div>"
      ],
      "text/plain": [
       "        State  Year  Prod. Renewable (Bil. Btu)  Total Consumed (Bil. Btu)  \\\n",
       "0      Alaska  1970                      8835.0                   182039.0   \n",
       "1     Alabama  1970                    132471.0                  1393497.0   \n",
       "2    Arkansas  1970                     56933.0                   708904.0   \n",
       "3     Arizona  1970                     68919.0                   520401.0   \n",
       "4  California  1970                    521978.0                  5499139.0   \n",
       "\n",
       "   GDP (Millions)  Pop. (1000s)  Energy Pr. ($/mil. btu)  \n",
       "0             0.0         304.0                     1.39  \n",
       "1             0.0        3451.0                     1.37  \n",
       "2             0.0        1932.0                     1.51  \n",
       "3             0.0        1792.0                     1.97  \n",
       "4             0.0       20007.0                     1.74  "
      ]
     },
     "execution_count": 4,
     "metadata": {},
     "output_type": "execute_result"
    }
   ],
   "source": [
    "# Drop Consumption from the table\n",
    "states_df = states_df.drop(['Unnamed: 0'], axis=1)\n",
    "states_df = states_df.rename(columns={'Produced Renewable(Billion Btu)': 'Prod. Renewable (Bil. Btu)',\n",
    "                                      'Total Consumed(Billion Btu)': 'Total Consumed (Bil. Btu)',\n",
    "                                     'GDP(Million dollars)': 'GDP (Millions)', 'Population(Thousand)' : 'Pop. (1000s)',\n",
    "                                     'Energy Price(dollars per million btu)': 'Energy Pr. ($/mil. btu)'})\n",
    "\n",
    "states_df.head()"
   ]
  },
  {
   "cell_type": "code",
   "execution_count": 5,
   "metadata": {},
   "outputs": [
    {
     "data": {
      "text/html": [
       "<div>\n",
       "<style scoped>\n",
       "    .dataframe tbody tr th:only-of-type {\n",
       "        vertical-align: middle;\n",
       "    }\n",
       "\n",
       "    .dataframe tbody tr th {\n",
       "        vertical-align: top;\n",
       "    }\n",
       "\n",
       "    .dataframe thead th {\n",
       "        text-align: right;\n",
       "    }\n",
       "</style>\n",
       "<table border=\"1\" class=\"dataframe\">\n",
       "  <thead>\n",
       "    <tr style=\"text-align: right;\">\n",
       "      <th></th>\n",
       "      <th>State</th>\n",
       "      <th>Year</th>\n",
       "      <th>Prod. Renewable (Bil. Btu)</th>\n",
       "      <th>Total Consumed (Bil. Btu)</th>\n",
       "      <th>GDP (Millions)</th>\n",
       "      <th>Pop. (1000s)</th>\n",
       "      <th>Energy Pr. ($/mil. btu)</th>\n",
       "    </tr>\n",
       "  </thead>\n",
       "  <tbody>\n",
       "    <tr>\n",
       "      <th>1404</th>\n",
       "      <td>North Carolina</td>\n",
       "      <td>1997</td>\n",
       "      <td>164819.0</td>\n",
       "      <td>2420159.0</td>\n",
       "      <td>316366.0</td>\n",
       "      <td>7657.0</td>\n",
       "      <td>10.04</td>\n",
       "    </tr>\n",
       "    <tr>\n",
       "      <th>1455</th>\n",
       "      <td>North Carolina</td>\n",
       "      <td>1998</td>\n",
       "      <td>159627.0</td>\n",
       "      <td>2463893.0</td>\n",
       "      <td>326225.0</td>\n",
       "      <td>7809.0</td>\n",
       "      <td>9.46</td>\n",
       "    </tr>\n",
       "    <tr>\n",
       "      <th>1506</th>\n",
       "      <td>North Carolina</td>\n",
       "      <td>1999</td>\n",
       "      <td>139731.0</td>\n",
       "      <td>2473188.0</td>\n",
       "      <td>344425.0</td>\n",
       "      <td>7949.0</td>\n",
       "      <td>9.80</td>\n",
       "    </tr>\n",
       "    <tr>\n",
       "      <th>1557</th>\n",
       "      <td>North Carolina</td>\n",
       "      <td>2000</td>\n",
       "      <td>136234.0</td>\n",
       "      <td>2587792.0</td>\n",
       "      <td>354846.0</td>\n",
       "      <td>8082.0</td>\n",
       "      <td>11.51</td>\n",
       "    </tr>\n",
       "    <tr>\n",
       "      <th>1608</th>\n",
       "      <td>North Carolina</td>\n",
       "      <td>2001</td>\n",
       "      <td>127348.0</td>\n",
       "      <td>2534318.0</td>\n",
       "      <td>361354.0</td>\n",
       "      <td>8210.0</td>\n",
       "      <td>11.67</td>\n",
       "    </tr>\n",
       "  </tbody>\n",
       "</table>\n",
       "</div>"
      ],
      "text/plain": [
       "               State  Year  Prod. Renewable (Bil. Btu)  \\\n",
       "1404  North Carolina  1997                    164819.0   \n",
       "1455  North Carolina  1998                    159627.0   \n",
       "1506  North Carolina  1999                    139731.0   \n",
       "1557  North Carolina  2000                    136234.0   \n",
       "1608  North Carolina  2001                    127348.0   \n",
       "\n",
       "      Total Consumed (Bil. Btu)  GDP (Millions)  Pop. (1000s)  \\\n",
       "1404                  2420159.0        316366.0        7657.0   \n",
       "1455                  2463893.0        326225.0        7809.0   \n",
       "1506                  2473188.0        344425.0        7949.0   \n",
       "1557                  2587792.0        354846.0        8082.0   \n",
       "1608                  2534318.0        361354.0        8210.0   \n",
       "\n",
       "      Energy Pr. ($/mil. btu)  \n",
       "1404                    10.04  \n",
       "1455                     9.46  \n",
       "1506                     9.80  \n",
       "1557                    11.51  \n",
       "1608                    11.67  "
      ]
     },
     "metadata": {},
     "output_type": "display_data"
    },
    {
     "data": {
      "text/plain": [
       "217876.0"
      ]
     },
     "execution_count": 5,
     "metadata": {},
     "output_type": "execute_result"
    }
   ],
   "source": [
    "# Create test state df for North Carolina\n",
    "\n",
    "nc_df = states_df.loc[(states_df['Year'] >= 1997) & (states_df['State'] == 'North Carolina')]\n",
    "display(nc_df.head())\n",
    "# display(nc_df.tail())\n",
    "nc_df.loc[nc_df['Year'] == 2017, 'Prod. Renewable (Bil. Btu)'].values[0]"
   ]
  },
  {
   "cell_type": "markdown",
   "metadata": {},
   "source": [
    "# Multiple Liner Regression (MLR) Test"
   ]
  },
  {
   "cell_type": "code",
   "execution_count": 6,
   "metadata": {},
   "outputs": [
    {
     "name": "stdout",
     "output_type": "stream",
     "text": [
      "X shape: (21, 1)\n",
      "y shape: (21, 1)\n"
     ]
    }
   ],
   "source": [
    "# Find future value for one state - North Carolina\n",
    "# Test is run on Produced Renewable Column using simple LR\n",
    "\n",
    "# Select X & y values\n",
    "X = nc_df[['Year']].values.reshape(-1,1)\n",
    "y = nc_df[['Prod. Renewable (Bil. Btu)']].values.reshape(-1,1)\n",
    "\n",
    "print(f'X shape: {X.shape}')\n",
    "print(f'y shape: {y.shape}')"
   ]
  },
  {
   "cell_type": "code",
   "execution_count": 7,
   "metadata": {},
   "outputs": [
    {
     "data": {
      "text/plain": [
       "<matplotlib.collections.PathCollection at 0x217dcf7acc0>"
      ]
     },
     "execution_count": 7,
     "metadata": {},
     "output_type": "execute_result"
    },
    {
     "data": {
      "image/png": "[encoded data removed]",
      "text/plain": [
       "<Figure size 432x288 with 1 Axes>"
      ]
     },
     "metadata": {
      "needs_background": "light"
     },
     "output_type": "display_data"
    }
   ],
   "source": [
    "# Plot the data for a quick visual... is it linear? \n",
    "\n",
    "plt.scatter(X,y)"
   ]
  },
  {
   "cell_type": "code",
   "execution_count": 8,
   "metadata": {},
   "outputs": [],
   "source": [
    "# Split the data into Training and Test Sets\n",
    "from sklearn.model_selection import train_test_split\n",
    "X_train, X_test, y_train, y_test = train_test_split(X, y, random_state=69)"
   ]
  },
  {
   "cell_type": "code",
   "execution_count": 9,
   "metadata": {},
   "outputs": [
    {
     "data": {
      "text/plain": [
       "LinearRegression()"
      ]
     },
     "execution_count": 9,
     "metadata": {},
     "output_type": "execute_result"
    }
   ],
   "source": [
    "# Create a LinearRegression model and fit it to the scaled training data\n",
    "\n",
    "from sklearn.linear_model import LinearRegression\n",
    "model = LinearRegression()\n",
    "model.fit(X_train, y_train)"
   ]
  },
  {
   "cell_type": "code",
   "execution_count": null,
   "metadata": {},
   "outputs": [],
   "source": []
  }
 ],
 "metadata": {
  "kernelspec": {
   "display_name": "PythonData",
   "language": "python",
   "name": "pythondata"
  },
  "language_info": {
   "codemirror_mode": {
    "name": "ipython",
    "version": 3
   },
   "file_extension": ".py",
   "mimetype": "text/x-python",
   "name": "python",
   "nbconvert_exporter": "python",
   "pygments_lexer": "ipython3",
   "version": "3.6.10"
  }
 },
 "nbformat": 4,
 "nbformat_minor": 4
}
